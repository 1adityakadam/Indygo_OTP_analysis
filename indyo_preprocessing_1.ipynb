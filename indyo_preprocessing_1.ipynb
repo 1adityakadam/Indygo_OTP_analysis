{
  "cells": [
    {
      "cell_type": "code",
      "execution_count": null,
      "metadata": {
        "id": "rS3w9bsjQsL8"
      },
      "outputs": [],
      "source": [
        "import pandas as pd"
      ]
    },
    {
      "cell_type": "code",
      "execution_count": null,
      "metadata": {
        "id": "XIU-s8_bQsL-",
        "outputId": "67438b6b-f0c4-43f8-ba81-848397cf0d3a"
      },
      "outputs": [
        {
          "name": "stderr",
          "output_type": "stream",
          "text": [
            "<>:1: SyntaxWarning: invalid escape sequence '\\i'\n",
            "<>:1: SyntaxWarning: invalid escape sequence '\\i'\n",
            "C:\\Users\\acer\\AppData\\Local\\Temp\\ipykernel_15036\\3344138006.py:1: SyntaxWarning: invalid escape sequence '\\i'\n",
            "  data=pd.read_csv('D:\\info_viz\\FactSegmentAdherence_original_data.csv')\n"
          ]
        }
      ],
      "source": [
        "data=pd.read_csv('D:\\info_viz\\FactSegmentAdherence_original_data.csv')"
      ]
    },
    {
      "cell_type": "code",
      "execution_count": null,
      "metadata": {
        "id": "Q2rWQHCJQsL_",
        "outputId": "41f9c748-b9c8-4b41-acf8-b86d4d1ecdd5"
      },
      "outputs": [
        {
          "data": {
            "text/plain": [
              "(20618440, 27)"
            ]
          },
          "execution_count": 3,
          "metadata": {},
          "output_type": "execute_result"
        }
      ],
      "source": [
        "data.shape"
      ]
    },
    {
      "cell_type": "code",
      "execution_count": null,
      "metadata": {
        "id": "U-XlbwKyQsL_",
        "outputId": "fbf67e87-0e2f-443a-f5e1-25187d494b1b"
      },
      "outputs": [
        {
          "data": {
            "text/html": [
              "<div>\n",
              "<style scoped>\n",
              "    .dataframe tbody tr th:only-of-type {\n",
              "        vertical-align: middle;\n",
              "    }\n",
              "\n",
              "    .dataframe tbody tr th {\n",
              "        vertical-align: top;\n",
              "    }\n",
              "\n",
              "    .dataframe thead th {\n",
              "        text-align: right;\n",
              "    }\n",
              "</style>\n",
              "<table border=\"1\" class=\"dataframe\">\n",
              "  <thead>\n",
              "    <tr style=\"text-align: right;\">\n",
              "      <th></th>\n",
              "      <th>DateKey</th>\n",
              "      <th>BlockKey</th>\n",
              "      <th>RouteKey</th>\n",
              "      <th>DepartStopKey</th>\n",
              "      <th>ArriveStopKey</th>\n",
              "      <th>TripKey</th>\n",
              "      <th>UserKey</th>\n",
              "      <th>VehicleKey</th>\n",
              "      <th>TripSequence</th>\n",
              "      <th>ArriveBoards</th>\n",
              "      <th>...</th>\n",
              "      <th>ArriveOnboard</th>\n",
              "      <th>DepartBoards</th>\n",
              "      <th>DepartAlights</th>\n",
              "      <th>DepartOnboard</th>\n",
              "      <th>DepartTimeVarianceSecs</th>\n",
              "      <th>ArriveTimeVarianceSecs</th>\n",
              "      <th>EndTimeVarianceSecs</th>\n",
              "      <th>TotalTimeScheduleSecs</th>\n",
              "      <th>TotalTimeActualSecs</th>\n",
              "      <th>TotalTimeVarianceSecs</th>\n",
              "    </tr>\n",
              "  </thead>\n",
              "  <tbody>\n",
              "    <tr>\n",
              "      <th>count</th>\n",
              "      <td>2.061844e+07</td>\n",
              "      <td>2.061844e+07</td>\n",
              "      <td>2.061844e+07</td>\n",
              "      <td>2.061844e+07</td>\n",
              "      <td>2.061844e+07</td>\n",
              "      <td>2.061844e+07</td>\n",
              "      <td>2.061844e+07</td>\n",
              "      <td>2.061844e+07</td>\n",
              "      <td>2.061844e+07</td>\n",
              "      <td>1.951369e+07</td>\n",
              "      <td>...</td>\n",
              "      <td>1.951369e+07</td>\n",
              "      <td>1.951435e+07</td>\n",
              "      <td>1.951435e+07</td>\n",
              "      <td>1.971753e+07</td>\n",
              "      <td>1.951435e+07</td>\n",
              "      <td>1.951435e+07</td>\n",
              "      <td>1.951435e+07</td>\n",
              "      <td>2.061844e+07</td>\n",
              "      <td>1.951435e+07</td>\n",
              "      <td>1.951435e+07</td>\n",
              "    </tr>\n",
              "    <tr>\n",
              "      <th>mean</th>\n",
              "      <td>9.436600e+03</td>\n",
              "      <td>1.521951e+03</td>\n",
              "      <td>2.045620e+03</td>\n",
              "      <td>9.978012e+03</td>\n",
              "      <td>9.978016e+03</td>\n",
              "      <td>1.873617e+05</td>\n",
              "      <td>1.804110e+03</td>\n",
              "      <td>3.075015e+03</td>\n",
              "      <td>3.337545e+01</td>\n",
              "      <td>1.774862e-01</td>\n",
              "      <td>...</td>\n",
              "      <td>4.497750e+00</td>\n",
              "      <td>2.239485e-01</td>\n",
              "      <td>1.861843e-01</td>\n",
              "      <td>4.483926e+00</td>\n",
              "      <td>1.570203e+02</td>\n",
              "      <td>1.467812e+02</td>\n",
              "      <td>1.565279e+02</td>\n",
              "      <td>7.081145e+01</td>\n",
              "      <td>6.886790e+01</td>\n",
              "      <td>-4.923327e-01</td>\n",
              "    </tr>\n",
              "    <tr>\n",
              "      <th>std</th>\n",
              "      <td>7.098551e+01</td>\n",
              "      <td>1.433391e+02</td>\n",
              "      <td>2.084615e+01</td>\n",
              "      <td>4.750474e+03</td>\n",
              "      <td>4.750477e+03</td>\n",
              "      <td>3.510271e+03</td>\n",
              "      <td>7.494285e+02</td>\n",
              "      <td>7.420117e+02</td>\n",
              "      <td>2.348412e+01</td>\n",
              "      <td>8.707414e-01</td>\n",
              "      <td>...</td>\n",
              "      <td>5.036685e+00</td>\n",
              "      <td>1.067881e+00</td>\n",
              "      <td>9.884412e-01</td>\n",
              "      <td>5.031494e+00</td>\n",
              "      <td>2.985639e+02</td>\n",
              "      <td>3.015901e+02</td>\n",
              "      <td>3.002512e+02</td>\n",
              "      <td>1.350617e+02</td>\n",
              "      <td>1.350577e+02</td>\n",
              "      <td>6.373415e+01</td>\n",
              "    </tr>\n",
              "    <tr>\n",
              "      <th>min</th>\n",
              "      <td>9.313000e+03</td>\n",
              "      <td>1.354000e+03</td>\n",
              "      <td>1.977000e+03</td>\n",
              "      <td>1.700000e+03</td>\n",
              "      <td>1.700000e+03</td>\n",
              "      <td>1.771580e+05</td>\n",
              "      <td>-1.000000e+00</td>\n",
              "      <td>-1.000000e+00</td>\n",
              "      <td>1.000000e+00</td>\n",
              "      <td>0.000000e+00</td>\n",
              "      <td>...</td>\n",
              "      <td>0.000000e+00</td>\n",
              "      <td>0.000000e+00</td>\n",
              "      <td>0.000000e+00</td>\n",
              "      <td>0.000000e+00</td>\n",
              "      <td>-1.160000e+03</td>\n",
              "      <td>-1.111000e+03</td>\n",
              "      <td>-2.591000e+03</td>\n",
              "      <td>7.000000e+00</td>\n",
              "      <td>0.000000e+00</td>\n",
              "      <td>-2.625000e+03</td>\n",
              "    </tr>\n",
              "    <tr>\n",
              "      <th>25%</th>\n",
              "      <td>9.375000e+03</td>\n",
              "      <td>1.404000e+03</td>\n",
              "      <td>2.031000e+03</td>\n",
              "      <td>6.090000e+03</td>\n",
              "      <td>6.090000e+03</td>\n",
              "      <td>1.841120e+05</td>\n",
              "      <td>1.235000e+03</td>\n",
              "      <td>3.143000e+03</td>\n",
              "      <td>1.400000e+01</td>\n",
              "      <td>0.000000e+00</td>\n",
              "      <td>...</td>\n",
              "      <td>1.000000e+00</td>\n",
              "      <td>0.000000e+00</td>\n",
              "      <td>0.000000e+00</td>\n",
              "      <td>1.000000e+00</td>\n",
              "      <td>9.000000e+00</td>\n",
              "      <td>-3.000000e+00</td>\n",
              "      <td>9.000000e+00</td>\n",
              "      <td>3.100000e+01</td>\n",
              "      <td>2.300000e+01</td>\n",
              "      <td>-1.800000e+01</td>\n",
              "    </tr>\n",
              "    <tr>\n",
              "      <th>50%</th>\n",
              "      <td>9.437000e+03</td>\n",
              "      <td>1.479000e+03</td>\n",
              "      <td>2.043000e+03</td>\n",
              "      <td>7.573000e+03</td>\n",
              "      <td>7.573000e+03</td>\n",
              "      <td>1.875570e+05</td>\n",
              "      <td>1.777000e+03</td>\n",
              "      <td>3.216000e+03</td>\n",
              "      <td>2.900000e+01</td>\n",
              "      <td>0.000000e+00</td>\n",
              "      <td>...</td>\n",
              "      <td>3.000000e+00</td>\n",
              "      <td>0.000000e+00</td>\n",
              "      <td>0.000000e+00</td>\n",
              "      <td>3.000000e+00</td>\n",
              "      <td>1.000000e+02</td>\n",
              "      <td>9.000000e+01</td>\n",
              "      <td>1.000000e+02</td>\n",
              "      <td>4.500000e+01</td>\n",
              "      <td>3.800000e+01</td>\n",
              "      <td>-8.000000e+00</td>\n",
              "    </tr>\n",
              "    <tr>\n",
              "      <th>75%</th>\n",
              "      <td>9.498000e+03</td>\n",
              "      <td>1.600000e+03</td>\n",
              "      <td>2.067000e+03</td>\n",
              "      <td>1.497400e+04</td>\n",
              "      <td>1.497400e+04</td>\n",
              "      <td>1.901340e+05</td>\n",
              "      <td>2.541000e+03</td>\n",
              "      <td>3.354000e+03</td>\n",
              "      <td>4.900000e+01</td>\n",
              "      <td>0.000000e+00</td>\n",
              "      <td>...</td>\n",
              "      <td>7.000000e+00</td>\n",
              "      <td>0.000000e+00</td>\n",
              "      <td>0.000000e+00</td>\n",
              "      <td>7.000000e+00</td>\n",
              "      <td>2.330000e+02</td>\n",
              "      <td>2.240000e+02</td>\n",
              "      <td>2.330000e+02</td>\n",
              "      <td>6.500000e+01</td>\n",
              "      <td>6.900000e+01</td>\n",
              "      <td>1.000000e+01</td>\n",
              "    </tr>\n",
              "    <tr>\n",
              "      <th>max</th>\n",
              "      <td>9.559000e+03</td>\n",
              "      <td>1.815000e+03</td>\n",
              "      <td>2.080000e+03</td>\n",
              "      <td>1.859400e+04</td>\n",
              "      <td>1.859400e+04</td>\n",
              "      <td>1.937470e+05</td>\n",
              "      <td>2.935000e+03</td>\n",
              "      <td>3.486000e+03</td>\n",
              "      <td>1.160000e+02</td>\n",
              "      <td>2.550000e+02</td>\n",
              "      <td>...</td>\n",
              "      <td>2.550000e+02</td>\n",
              "      <td>2.550000e+02</td>\n",
              "      <td>2.550000e+02</td>\n",
              "      <td>2.550000e+02</td>\n",
              "      <td>1.814100e+04</td>\n",
              "      <td>1.826700e+04</td>\n",
              "      <td>1.843500e+04</td>\n",
              "      <td>2.881000e+03</td>\n",
              "      <td>1.788400e+04</td>\n",
              "      <td>1.776900e+04</td>\n",
              "    </tr>\n",
              "  </tbody>\n",
              "</table>\n",
              "<p>8 rows × 21 columns</p>\n",
              "</div>"
            ],
            "text/plain": [
              "            DateKey      BlockKey      RouteKey  DepartStopKey  ArriveStopKey  \\\n",
              "count  2.061844e+07  2.061844e+07  2.061844e+07   2.061844e+07   2.061844e+07   \n",
              "mean   9.436600e+03  1.521951e+03  2.045620e+03   9.978012e+03   9.978016e+03   \n",
              "std    7.098551e+01  1.433391e+02  2.084615e+01   4.750474e+03   4.750477e+03   \n",
              "min    9.313000e+03  1.354000e+03  1.977000e+03   1.700000e+03   1.700000e+03   \n",
              "25%    9.375000e+03  1.404000e+03  2.031000e+03   6.090000e+03   6.090000e+03   \n",
              "50%    9.437000e+03  1.479000e+03  2.043000e+03   7.573000e+03   7.573000e+03   \n",
              "75%    9.498000e+03  1.600000e+03  2.067000e+03   1.497400e+04   1.497400e+04   \n",
              "max    9.559000e+03  1.815000e+03  2.080000e+03   1.859400e+04   1.859400e+04   \n",
              "\n",
              "            TripKey       UserKey    VehicleKey  TripSequence  ArriveBoards  \\\n",
              "count  2.061844e+07  2.061844e+07  2.061844e+07  2.061844e+07  1.951369e+07   \n",
              "mean   1.873617e+05  1.804110e+03  3.075015e+03  3.337545e+01  1.774862e-01   \n",
              "std    3.510271e+03  7.494285e+02  7.420117e+02  2.348412e+01  8.707414e-01   \n",
              "min    1.771580e+05 -1.000000e+00 -1.000000e+00  1.000000e+00  0.000000e+00   \n",
              "25%    1.841120e+05  1.235000e+03  3.143000e+03  1.400000e+01  0.000000e+00   \n",
              "50%    1.875570e+05  1.777000e+03  3.216000e+03  2.900000e+01  0.000000e+00   \n",
              "75%    1.901340e+05  2.541000e+03  3.354000e+03  4.900000e+01  0.000000e+00   \n",
              "max    1.937470e+05  2.935000e+03  3.486000e+03  1.160000e+02  2.550000e+02   \n",
              "\n",
              "       ...  ArriveOnboard  DepartBoards  DepartAlights  DepartOnboard  \\\n",
              "count  ...   1.951369e+07  1.951435e+07   1.951435e+07   1.971753e+07   \n",
              "mean   ...   4.497750e+00  2.239485e-01   1.861843e-01   4.483926e+00   \n",
              "std    ...   5.036685e+00  1.067881e+00   9.884412e-01   5.031494e+00   \n",
              "min    ...   0.000000e+00  0.000000e+00   0.000000e+00   0.000000e+00   \n",
              "25%    ...   1.000000e+00  0.000000e+00   0.000000e+00   1.000000e+00   \n",
              "50%    ...   3.000000e+00  0.000000e+00   0.000000e+00   3.000000e+00   \n",
              "75%    ...   7.000000e+00  0.000000e+00   0.000000e+00   7.000000e+00   \n",
              "max    ...   2.550000e+02  2.550000e+02   2.550000e+02   2.550000e+02   \n",
              "\n",
              "       DepartTimeVarianceSecs  ArriveTimeVarianceSecs  EndTimeVarianceSecs  \\\n",
              "count            1.951435e+07            1.951435e+07         1.951435e+07   \n",
              "mean             1.570203e+02            1.467812e+02         1.565279e+02   \n",
              "std              2.985639e+02            3.015901e+02         3.002512e+02   \n",
              "min             -1.160000e+03           -1.111000e+03        -2.591000e+03   \n",
              "25%              9.000000e+00           -3.000000e+00         9.000000e+00   \n",
              "50%              1.000000e+02            9.000000e+01         1.000000e+02   \n",
              "75%              2.330000e+02            2.240000e+02         2.330000e+02   \n",
              "max              1.814100e+04            1.826700e+04         1.843500e+04   \n",
              "\n",
              "       TotalTimeScheduleSecs  TotalTimeActualSecs  TotalTimeVarianceSecs  \n",
              "count           2.061844e+07         1.951435e+07           1.951435e+07  \n",
              "mean            7.081145e+01         6.886790e+01          -4.923327e-01  \n",
              "std             1.350617e+02         1.350577e+02           6.373415e+01  \n",
              "min             7.000000e+00         0.000000e+00          -2.625000e+03  \n",
              "25%             3.100000e+01         2.300000e+01          -1.800000e+01  \n",
              "50%             4.500000e+01         3.800000e+01          -8.000000e+00  \n",
              "75%             6.500000e+01         6.900000e+01           1.000000e+01  \n",
              "max             2.881000e+03         1.788400e+04           1.776900e+04  \n",
              "\n",
              "[8 rows x 21 columns]"
            ]
          },
          "execution_count": 4,
          "metadata": {},
          "output_type": "execute_result"
        }
      ],
      "source": [
        "data.describe()"
      ]
    },
    {
      "cell_type": "code",
      "execution_count": null,
      "metadata": {
        "id": "IzGAhRcTQsMA"
      },
      "outputs": [],
      "source": [
        "date_data=pd.read_csv(r\"C:\\Users\\acer\\Downloads\\DimDate.csv\")[['DateKey','CalendarDate','DayOfWeekName','WorkdayType']]"
      ]
    },
    {
      "cell_type": "code",
      "execution_count": null,
      "metadata": {
        "id": "HoPTYxQ6QsMA",
        "outputId": "34c704ba-0cf1-4386-9c96-3f2dd50e119b"
      },
      "outputs": [
        {
          "data": {
            "text/html": [
              "<div>\n",
              "<style scoped>\n",
              "    .dataframe tbody tr th:only-of-type {\n",
              "        vertical-align: middle;\n",
              "    }\n",
              "\n",
              "    .dataframe tbody tr th {\n",
              "        vertical-align: top;\n",
              "    }\n",
              "\n",
              "    .dataframe thead th {\n",
              "        text-align: right;\n",
              "    }\n",
              "</style>\n",
              "<table border=\"1\" class=\"dataframe\">\n",
              "  <thead>\n",
              "    <tr style=\"text-align: right;\">\n",
              "      <th></th>\n",
              "      <th>DateKey</th>\n",
              "      <th>CalendarDate</th>\n",
              "      <th>DayOfWeekName</th>\n",
              "      <th>WorkdayType</th>\n",
              "    </tr>\n",
              "  </thead>\n",
              "  <tbody>\n",
              "    <tr>\n",
              "      <th>0</th>\n",
              "      <td>8670</td>\n",
              "      <td>2022-01-01 00:00:00.000</td>\n",
              "      <td>Saturday</td>\n",
              "      <td>Saturday</td>\n",
              "    </tr>\n",
              "    <tr>\n",
              "      <th>1</th>\n",
              "      <td>8671</td>\n",
              "      <td>2022-01-02 00:00:00.000</td>\n",
              "      <td>Sunday</td>\n",
              "      <td>Sunday</td>\n",
              "    </tr>\n",
              "    <tr>\n",
              "      <th>2</th>\n",
              "      <td>8672</td>\n",
              "      <td>2022-01-03 00:00:00.000</td>\n",
              "      <td>Monday</td>\n",
              "      <td>Weekday</td>\n",
              "    </tr>\n",
              "    <tr>\n",
              "      <th>3</th>\n",
              "      <td>8673</td>\n",
              "      <td>2022-01-04 00:00:00.000</td>\n",
              "      <td>Tuesday</td>\n",
              "      <td>Weekday</td>\n",
              "    </tr>\n",
              "    <tr>\n",
              "      <th>4</th>\n",
              "      <td>8674</td>\n",
              "      <td>2022-01-05 00:00:00.000</td>\n",
              "      <td>Wednesday</td>\n",
              "      <td>Weekday</td>\n",
              "    </tr>\n",
              "  </tbody>\n",
              "</table>\n",
              "</div>"
            ],
            "text/plain": [
              "   DateKey             CalendarDate DayOfWeekName WorkdayType\n",
              "0     8670  2022-01-01 00:00:00.000      Saturday    Saturday\n",
              "1     8671  2022-01-02 00:00:00.000        Sunday      Sunday\n",
              "2     8672  2022-01-03 00:00:00.000        Monday     Weekday\n",
              "3     8673  2022-01-04 00:00:00.000       Tuesday     Weekday\n",
              "4     8674  2022-01-05 00:00:00.000     Wednesday     Weekday"
            ]
          },
          "execution_count": 6,
          "metadata": {},
          "output_type": "execute_result"
        }
      ],
      "source": [
        "date_data.head()"
      ]
    },
    {
      "cell_type": "code",
      "execution_count": null,
      "metadata": {
        "id": "LK1PYBcZQsMA"
      },
      "outputs": [],
      "source": [
        "data=data.merge(date_data,on='DateKey',how='left')"
      ]
    },
    {
      "cell_type": "code",
      "execution_count": null,
      "metadata": {
        "id": "-Q0F6AApQsMA",
        "outputId": "26b4581b-1a77-4be2-8f4d-f93e31d2cfa7"
      },
      "outputs": [
        {
          "data": {
            "text/plain": [
              "(20618440, 30)"
            ]
          },
          "execution_count": 8,
          "metadata": {},
          "output_type": "execute_result"
        }
      ],
      "source": [
        "data.shape"
      ]
    },
    {
      "cell_type": "code",
      "execution_count": null,
      "metadata": {
        "id": "dGDOkfvmQsMB",
        "outputId": "e586468c-b3a0-4556-b793-edd9dd8b0434"
      },
      "outputs": [
        {
          "data": {
            "text/html": [
              "<div>\n",
              "<style scoped>\n",
              "    .dataframe tbody tr th:only-of-type {\n",
              "        vertical-align: middle;\n",
              "    }\n",
              "\n",
              "    .dataframe tbody tr th {\n",
              "        vertical-align: top;\n",
              "    }\n",
              "\n",
              "    .dataframe thead th {\n",
              "        text-align: right;\n",
              "    }\n",
              "</style>\n",
              "<table border=\"1\" class=\"dataframe\">\n",
              "  <thead>\n",
              "    <tr style=\"text-align: right;\">\n",
              "      <th></th>\n",
              "      <th>DateKey</th>\n",
              "      <th>BlockKey</th>\n",
              "      <th>RouteKey</th>\n",
              "      <th>DepartStopKey</th>\n",
              "      <th>ArriveStopKey</th>\n",
              "      <th>TripKey</th>\n",
              "      <th>UserKey</th>\n",
              "      <th>VehicleKey</th>\n",
              "      <th>TripSequence</th>\n",
              "      <th>ArriveBoards</th>\n",
              "      <th>...</th>\n",
              "      <th>ArriveTimeVarianceSecs</th>\n",
              "      <th>EndTimeSchedule</th>\n",
              "      <th>EndTimeActual</th>\n",
              "      <th>EndTimeVarianceSecs</th>\n",
              "      <th>TotalTimeScheduleSecs</th>\n",
              "      <th>TotalTimeActualSecs</th>\n",
              "      <th>TotalTimeVarianceSecs</th>\n",
              "      <th>CalendarDate</th>\n",
              "      <th>DayOfWeekName</th>\n",
              "      <th>WorkdayType</th>\n",
              "    </tr>\n",
              "  </thead>\n",
              "  <tbody>\n",
              "    <tr>\n",
              "      <th>0</th>\n",
              "      <td>9313</td>\n",
              "      <td>1369</td>\n",
              "      <td>2001</td>\n",
              "      <td>1700</td>\n",
              "      <td>5559</td>\n",
              "      <td>180233</td>\n",
              "      <td>1071</td>\n",
              "      <td>2900</td>\n",
              "      <td>70</td>\n",
              "      <td>0.0</td>\n",
              "      <td>...</td>\n",
              "      <td>-119.0</td>\n",
              "      <td>2023-10-07 00:11:22.000</td>\n",
              "      <td>2023-10-07 00:09:23.000</td>\n",
              "      <td>-119.0</td>\n",
              "      <td>74</td>\n",
              "      <td>67.0</td>\n",
              "      <td>-7.0</td>\n",
              "      <td>2023-10-06 00:00:00.000</td>\n",
              "      <td>Friday</td>\n",
              "      <td>Weekday</td>\n",
              "    </tr>\n",
              "    <tr>\n",
              "      <th>1</th>\n",
              "      <td>9313</td>\n",
              "      <td>1545</td>\n",
              "      <td>2007</td>\n",
              "      <td>2974</td>\n",
              "      <td>16278</td>\n",
              "      <td>180058</td>\n",
              "      <td>2537</td>\n",
              "      <td>3243</td>\n",
              "      <td>20</td>\n",
              "      <td>0.0</td>\n",
              "      <td>...</td>\n",
              "      <td>82.0</td>\n",
              "      <td>2023-10-07 00:29:02.000</td>\n",
              "      <td>2023-10-07 00:30:24.000</td>\n",
              "      <td>82.0</td>\n",
              "      <td>21</td>\n",
              "      <td>9.0</td>\n",
              "      <td>-12.0</td>\n",
              "      <td>2023-10-06 00:00:00.000</td>\n",
              "      <td>Friday</td>\n",
              "      <td>Weekday</td>\n",
              "    </tr>\n",
              "    <tr>\n",
              "      <th>2</th>\n",
              "      <td>9313</td>\n",
              "      <td>1404</td>\n",
              "      <td>1995</td>\n",
              "      <td>5063</td>\n",
              "      <td>5064</td>\n",
              "      <td>181608</td>\n",
              "      <td>1476</td>\n",
              "      <td>3256</td>\n",
              "      <td>23</td>\n",
              "      <td>0.0</td>\n",
              "      <td>...</td>\n",
              "      <td>322.0</td>\n",
              "      <td>2023-10-07 00:06:16.000</td>\n",
              "      <td>2023-10-07 00:11:38.000</td>\n",
              "      <td>322.0</td>\n",
              "      <td>22</td>\n",
              "      <td>23.0</td>\n",
              "      <td>1.0</td>\n",
              "      <td>2023-10-06 00:00:00.000</td>\n",
              "      <td>Friday</td>\n",
              "      <td>Weekday</td>\n",
              "    </tr>\n",
              "    <tr>\n",
              "      <th>3</th>\n",
              "      <td>9313</td>\n",
              "      <td>1404</td>\n",
              "      <td>1995</td>\n",
              "      <td>5064</td>\n",
              "      <td>5066</td>\n",
              "      <td>181608</td>\n",
              "      <td>1476</td>\n",
              "      <td>3256</td>\n",
              "      <td>24</td>\n",
              "      <td>0.0</td>\n",
              "      <td>...</td>\n",
              "      <td>340.0</td>\n",
              "      <td>2023-10-07 00:07:00.000</td>\n",
              "      <td>2023-10-07 00:13:04.000</td>\n",
              "      <td>364.0</td>\n",
              "      <td>44</td>\n",
              "      <td>86.0</td>\n",
              "      <td>42.0</td>\n",
              "      <td>2023-10-06 00:00:00.000</td>\n",
              "      <td>Friday</td>\n",
              "      <td>Weekday</td>\n",
              "    </tr>\n",
              "    <tr>\n",
              "      <th>4</th>\n",
              "      <td>9313</td>\n",
              "      <td>1404</td>\n",
              "      <td>1995</td>\n",
              "      <td>5066</td>\n",
              "      <td>5068</td>\n",
              "      <td>181608</td>\n",
              "      <td>1476</td>\n",
              "      <td>3256</td>\n",
              "      <td>25</td>\n",
              "      <td>0.0</td>\n",
              "      <td>...</td>\n",
              "      <td>353.0</td>\n",
              "      <td>2023-10-07 00:07:44.000</td>\n",
              "      <td>2023-10-07 00:13:37.000</td>\n",
              "      <td>353.0</td>\n",
              "      <td>44</td>\n",
              "      <td>33.0</td>\n",
              "      <td>-11.0</td>\n",
              "      <td>2023-10-06 00:00:00.000</td>\n",
              "      <td>Friday</td>\n",
              "      <td>Weekday</td>\n",
              "    </tr>\n",
              "  </tbody>\n",
              "</table>\n",
              "<p>5 rows × 30 columns</p>\n",
              "</div>"
            ],
            "text/plain": [
              "   DateKey  BlockKey  RouteKey  DepartStopKey  ArriveStopKey  TripKey  \\\n",
              "0     9313      1369      2001           1700           5559   180233   \n",
              "1     9313      1545      2007           2974          16278   180058   \n",
              "2     9313      1404      1995           5063           5064   181608   \n",
              "3     9313      1404      1995           5064           5066   181608   \n",
              "4     9313      1404      1995           5066           5068   181608   \n",
              "\n",
              "   UserKey  VehicleKey  TripSequence  ArriveBoards  ...  \\\n",
              "0     1071        2900            70           0.0  ...   \n",
              "1     2537        3243            20           0.0  ...   \n",
              "2     1476        3256            23           0.0  ...   \n",
              "3     1476        3256            24           0.0  ...   \n",
              "4     1476        3256            25           0.0  ...   \n",
              "\n",
              "   ArriveTimeVarianceSecs          EndTimeSchedule            EndTimeActual  \\\n",
              "0                  -119.0  2023-10-07 00:11:22.000  2023-10-07 00:09:23.000   \n",
              "1                    82.0  2023-10-07 00:29:02.000  2023-10-07 00:30:24.000   \n",
              "2                   322.0  2023-10-07 00:06:16.000  2023-10-07 00:11:38.000   \n",
              "3                   340.0  2023-10-07 00:07:00.000  2023-10-07 00:13:04.000   \n",
              "4                   353.0  2023-10-07 00:07:44.000  2023-10-07 00:13:37.000   \n",
              "\n",
              "   EndTimeVarianceSecs  TotalTimeScheduleSecs TotalTimeActualSecs  \\\n",
              "0               -119.0                     74                67.0   \n",
              "1                 82.0                     21                 9.0   \n",
              "2                322.0                     22                23.0   \n",
              "3                364.0                     44                86.0   \n",
              "4                353.0                     44                33.0   \n",
              "\n",
              "  TotalTimeVarianceSecs             CalendarDate DayOfWeekName WorkdayType  \n",
              "0                  -7.0  2023-10-06 00:00:00.000        Friday     Weekday  \n",
              "1                 -12.0  2023-10-06 00:00:00.000        Friday     Weekday  \n",
              "2                   1.0  2023-10-06 00:00:00.000        Friday     Weekday  \n",
              "3                  42.0  2023-10-06 00:00:00.000        Friday     Weekday  \n",
              "4                 -11.0  2023-10-06 00:00:00.000        Friday     Weekday  \n",
              "\n",
              "[5 rows x 30 columns]"
            ]
          },
          "execution_count": 9,
          "metadata": {},
          "output_type": "execute_result"
        }
      ],
      "source": [
        "data.head()"
      ]
    },
    {
      "cell_type": "code",
      "execution_count": null,
      "metadata": {
        "id": "cdyBQRSMQsMB"
      },
      "outputs": [],
      "source": [
        "route_data=pd.read_csv(r'C:\\Users\\acer\\Downloads\\DimRoute.csv')[['RouteInternetName','RouteKey']]"
      ]
    },
    {
      "cell_type": "code",
      "execution_count": null,
      "metadata": {
        "id": "WTAd0e9NQsMB",
        "outputId": "c1795189-d783-42d7-c858-4a015359ef50"
      },
      "outputs": [
        {
          "data": {
            "text/html": [
              "<div>\n",
              "<style scoped>\n",
              "    .dataframe tbody tr th:only-of-type {\n",
              "        vertical-align: middle;\n",
              "    }\n",
              "\n",
              "    .dataframe tbody tr th {\n",
              "        vertical-align: top;\n",
              "    }\n",
              "\n",
              "    .dataframe thead th {\n",
              "        text-align: right;\n",
              "    }\n",
              "</style>\n",
              "<table border=\"1\" class=\"dataframe\">\n",
              "  <thead>\n",
              "    <tr style=\"text-align: right;\">\n",
              "      <th></th>\n",
              "      <th>RouteInternetName</th>\n",
              "      <th>RouteKey</th>\n",
              "    </tr>\n",
              "  </thead>\n",
              "  <tbody>\n",
              "    <tr>\n",
              "      <th>0</th>\n",
              "      <td>NaN</td>\n",
              "      <td>-1</td>\n",
              "    </tr>\n",
              "    <tr>\n",
              "      <th>1</th>\n",
              "      <td>Undefined</td>\n",
              "      <td>1000</td>\n",
              "    </tr>\n",
              "    <tr>\n",
              "      <th>2</th>\n",
              "      <td>NaN</td>\n",
              "      <td>1001</td>\n",
              "    </tr>\n",
              "    <tr>\n",
              "      <th>3</th>\n",
              "      <td>East 34th St</td>\n",
              "      <td>1002</td>\n",
              "    </tr>\n",
              "    <tr>\n",
              "      <th>4</th>\n",
              "      <td>Michigan Street</td>\n",
              "      <td>1003</td>\n",
              "    </tr>\n",
              "  </tbody>\n",
              "</table>\n",
              "</div>"
            ],
            "text/plain": [
              "  RouteInternetName  RouteKey\n",
              "0               NaN        -1\n",
              "1         Undefined      1000\n",
              "2               NaN      1001\n",
              "3      East 34th St      1002\n",
              "4   Michigan Street      1003"
            ]
          },
          "execution_count": 11,
          "metadata": {},
          "output_type": "execute_result"
        }
      ],
      "source": [
        "route_data.head()"
      ]
    },
    {
      "cell_type": "code",
      "execution_count": null,
      "metadata": {
        "id": "WwYjpskaQsMB"
      },
      "outputs": [],
      "source": [
        "data=data.merge(route_data,on='RouteKey',how='left')"
      ]
    },
    {
      "cell_type": "code",
      "execution_count": null,
      "metadata": {
        "id": "bFTjiCuZQsMC",
        "outputId": "5df1a039-a4e7-4c5d-a134-66724d72b130"
      },
      "outputs": [
        {
          "data": {
            "text/plain": [
              "(20618440, 31)"
            ]
          },
          "execution_count": 13,
          "metadata": {},
          "output_type": "execute_result"
        }
      ],
      "source": [
        "data.shape"
      ]
    },
    {
      "cell_type": "code",
      "execution_count": null,
      "metadata": {
        "id": "zZ5rWbtaQsMC"
      },
      "outputs": [],
      "source": [
        "route_data.rename(columns={'RouteInternetName': 'RouteDepartInternetName'}, inplace=True)"
      ]
    },
    {
      "cell_type": "code",
      "execution_count": null,
      "metadata": {
        "id": "s9_NrV-JQsMC"
      },
      "outputs": [],
      "source": [
        "data=data.merge(route_data,left_on='RouteKey',right_on='RouteKey',how='left')"
      ]
    },
    {
      "cell_type": "code",
      "execution_count": null,
      "metadata": {
        "id": "-Q5hcNRjQsMC",
        "outputId": "b0012bb7-c6bb-4051-874b-5c04080daaf9"
      },
      "outputs": [
        {
          "data": {
            "text/plain": [
              "(20618440, 32)"
            ]
          },
          "execution_count": 16,
          "metadata": {},
          "output_type": "execute_result"
        }
      ],
      "source": [
        "data.shape"
      ]
    },
    {
      "cell_type": "code",
      "execution_count": null,
      "metadata": {
        "id": "B40fCY3dQsMC"
      },
      "outputs": [],
      "source": [
        "route_data.rename(columns={'RouteDepartInternetName': 'RouteArrivalInternetName'}, inplace=True)"
      ]
    },
    {
      "cell_type": "code",
      "execution_count": null,
      "metadata": {
        "id": "O6YHeXC0QsMC"
      },
      "outputs": [],
      "source": [
        "data=data.merge(route_data,left_on='RouteKey',right_on='RouteKey',how='left')"
      ]
    },
    {
      "cell_type": "code",
      "execution_count": null,
      "metadata": {
        "id": "pByj0mLdQsMC",
        "outputId": "721e10a6-109a-4e0f-ecf8-015d01bb69d3"
      },
      "outputs": [
        {
          "data": {
            "text/plain": [
              "(20618440, 33)"
            ]
          },
          "execution_count": 19,
          "metadata": {},
          "output_type": "execute_result"
        }
      ],
      "source": [
        "data.shape"
      ]
    },
    {
      "cell_type": "code",
      "execution_count": null,
      "metadata": {
        "id": "-EewRVaMQsMC"
      },
      "outputs": [],
      "source": [
        "data.to_csv('final_data.csv')"
      ]
    },
    {
      "cell_type": "code",
      "execution_count": null,
      "metadata": {
        "id": "G_tE-_52QsMC",
        "outputId": "35a11690-6dd7-4ec5-9282-fce3ce0a03a7"
      },
      "outputs": [
        {
          "data": {
            "text/plain": [
              "'d:\\\\info_viz\\\\generating-reviews-discovering-sentiment'"
            ]
          },
          "execution_count": 22,
          "metadata": {},
          "output_type": "execute_result"
        }
      ],
      "source": [
        "pwd"
      ]
    },
    {
      "cell_type": "code",
      "execution_count": null,
      "metadata": {
        "id": "HpATxLYAQsMC"
      },
      "outputs": [],
      "source": [
        "data.head(20000).to_csv('demo_data.csv')"
      ]
    }
  ],
  "metadata": {
    "colab": {
      "provenance": []
    },
    "kernelspec": {
      "display_name": "myenv",
      "language": "python",
      "name": "python3"
    },
    "language_info": {
      "codemirror_mode": {
        "name": "ipython",
        "version": 3
      },
      "file_extension": ".py",
      "mimetype": "text/x-python",
      "name": "python",
      "nbconvert_exporter": "python",
      "pygments_lexer": "ipython3",
      "version": "3.12.9"
    }
  },
  "nbformat": 4,
  "nbformat_minor": 0
}
