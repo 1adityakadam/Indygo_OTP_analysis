{
 "cells": [
  {
   "cell_type": "code",
   "execution_count": 136,
   "metadata": {},
   "outputs": [],
   "source": [
    "import pandas as pd\n",
    "import numpy as np"
   ]
  },
  {
   "cell_type": "code",
   "execution_count": 138,
   "metadata": {},
   "outputs": [],
   "source": [
    "df_indygo = pd.read_csv('/Users/adityakadam/Downloads/indygo.csv')"
   ]
  },
  {
   "cell_type": "code",
   "execution_count": 139,
   "metadata": {},
   "outputs": [
    {
     "name": "stdout",
     "output_type": "stream",
     "text": [
      "   DepartTimeSchedule    DepartTimeActual  ArriveTimeSchedule  \\\n",
      "0 2023-10-07 00:10:08 2023-10-07 00:08:16 2023-10-07 00:11:22   \n",
      "1 2023-10-07 00:28:41 2023-10-07 00:30:15 2023-10-07 00:29:02   \n",
      "2 2023-10-07 00:05:54 2023-10-07 00:11:15 2023-10-07 00:06:16   \n",
      "3 2023-10-07 00:06:16 2023-10-07 00:11:38 2023-10-07 00:07:00   \n",
      "4 2023-10-07 00:07:00 2023-10-07 00:13:04 2023-10-07 00:07:44   \n",
      "\n",
      "     ArriveTimeActual     EndTimeSchedule       EndTimeActual CalendarDate  \n",
      "0 2023-10-07 00:09:23 2023-10-07 00:11:22 2023-10-07 00:09:23   2023-10-06  \n",
      "1 2023-10-07 00:30:24 2023-10-07 00:29:02 2023-10-07 00:30:24   2023-10-06  \n",
      "2 2023-10-07 00:11:38 2023-10-07 00:06:16 2023-10-07 00:11:38   2023-10-06  \n",
      "3 2023-10-07 00:12:40 2023-10-07 00:07:00 2023-10-07 00:13:04   2023-10-06  \n",
      "4 2023-10-07 00:13:37 2023-10-07 00:07:44 2023-10-07 00:13:37   2023-10-06  \n"
     ]
    }
   ],
   "source": [
    "columns_to_convert = [\n",
    "    'DepartTimeSchedule', \n",
    "    'DepartTimeActual', \n",
    "    'ArriveTimeSchedule', \n",
    "    'ArriveTimeActual', \n",
    "    'EndTimeSchedule', \n",
    "    'EndTimeActual', \n",
    "    'CalendarDate'\n",
    "]\n",
    "\n",
    "df_indygo[columns_to_convert] = df_indygo[columns_to_convert].apply(pd.to_datetime, errors='coerce')\n",
    "\n",
    "print(df_indygo[columns_to_convert].head())"
   ]
  },
  {
   "cell_type": "code",
   "execution_count": 140,
   "metadata": {},
   "outputs": [],
   "source": [
    "df_indygo = df_indygo.drop(columns=['Unnamed: 0.1', 'Unnamed: 0'])"
   ]
  },
  {
   "cell_type": "code",
   "execution_count": 141,
   "metadata": {},
   "outputs": [
    {
     "data": {
      "text/html": [
       "<div>\n",
       "<style scoped>\n",
       "    .dataframe tbody tr th:only-of-type {\n",
       "        vertical-align: middle;\n",
       "    }\n",
       "\n",
       "    .dataframe tbody tr th {\n",
       "        vertical-align: top;\n",
       "    }\n",
       "\n",
       "    .dataframe thead th {\n",
       "        text-align: right;\n",
       "    }\n",
       "</style>\n",
       "<table border=\"1\" class=\"dataframe\">\n",
       "  <thead>\n",
       "    <tr style=\"text-align: right;\">\n",
       "      <th></th>\n",
       "      <th>DateKey</th>\n",
       "      <th>BlockKey</th>\n",
       "      <th>RouteKey</th>\n",
       "      <th>DepartStopKey</th>\n",
       "      <th>ArriveStopKey</th>\n",
       "      <th>TripKey</th>\n",
       "      <th>UserKey</th>\n",
       "      <th>VehicleKey</th>\n",
       "      <th>TripSequence</th>\n",
       "      <th>ArriveBoards</th>\n",
       "      <th>...</th>\n",
       "      <th>EndTimeVarianceSecs</th>\n",
       "      <th>TotalTimeScheduleSecs</th>\n",
       "      <th>TotalTimeActualSecs</th>\n",
       "      <th>TotalTimeVarianceSecs</th>\n",
       "      <th>CalendarDate</th>\n",
       "      <th>DayOfWeekName</th>\n",
       "      <th>WorkdayType</th>\n",
       "      <th>RouteInternetName</th>\n",
       "      <th>RouteDepartInternetName</th>\n",
       "      <th>RouteArrivalInternetName</th>\n",
       "    </tr>\n",
       "  </thead>\n",
       "  <tbody>\n",
       "    <tr>\n",
       "      <th>0</th>\n",
       "      <td>9313</td>\n",
       "      <td>1369</td>\n",
       "      <td>2001</td>\n",
       "      <td>1700</td>\n",
       "      <td>5559</td>\n",
       "      <td>180233</td>\n",
       "      <td>1071</td>\n",
       "      <td>2900</td>\n",
       "      <td>70</td>\n",
       "      <td>0</td>\n",
       "      <td>...</td>\n",
       "      <td>-119</td>\n",
       "      <td>74</td>\n",
       "      <td>67</td>\n",
       "      <td>-7</td>\n",
       "      <td>2023-10-06</td>\n",
       "      <td>Friday</td>\n",
       "      <td>Weekday</td>\n",
       "      <td>10th Street</td>\n",
       "      <td>10th Street</td>\n",
       "      <td>10th Street</td>\n",
       "    </tr>\n",
       "    <tr>\n",
       "      <th>1</th>\n",
       "      <td>9313</td>\n",
       "      <td>1545</td>\n",
       "      <td>2007</td>\n",
       "      <td>2974</td>\n",
       "      <td>16278</td>\n",
       "      <td>180058</td>\n",
       "      <td>2537</td>\n",
       "      <td>3243</td>\n",
       "      <td>20</td>\n",
       "      <td>0</td>\n",
       "      <td>...</td>\n",
       "      <td>82</td>\n",
       "      <td>21</td>\n",
       "      <td>9</td>\n",
       "      <td>-12</td>\n",
       "      <td>2023-10-06</td>\n",
       "      <td>Friday</td>\n",
       "      <td>Weekday</td>\n",
       "      <td>Washington</td>\n",
       "      <td>Washington</td>\n",
       "      <td>Washington</td>\n",
       "    </tr>\n",
       "    <tr>\n",
       "      <th>2</th>\n",
       "      <td>9313</td>\n",
       "      <td>1404</td>\n",
       "      <td>1995</td>\n",
       "      <td>5063</td>\n",
       "      <td>5064</td>\n",
       "      <td>181608</td>\n",
       "      <td>1476</td>\n",
       "      <td>3256</td>\n",
       "      <td>23</td>\n",
       "      <td>0</td>\n",
       "      <td>...</td>\n",
       "      <td>322</td>\n",
       "      <td>22</td>\n",
       "      <td>23</td>\n",
       "      <td>1</td>\n",
       "      <td>2023-10-06</td>\n",
       "      <td>Friday</td>\n",
       "      <td>Weekday</td>\n",
       "      <td>East 38th St</td>\n",
       "      <td>East 38th St</td>\n",
       "      <td>East 38th St</td>\n",
       "    </tr>\n",
       "    <tr>\n",
       "      <th>3</th>\n",
       "      <td>9313</td>\n",
       "      <td>1404</td>\n",
       "      <td>1995</td>\n",
       "      <td>5064</td>\n",
       "      <td>5066</td>\n",
       "      <td>181608</td>\n",
       "      <td>1476</td>\n",
       "      <td>3256</td>\n",
       "      <td>24</td>\n",
       "      <td>0</td>\n",
       "      <td>...</td>\n",
       "      <td>364</td>\n",
       "      <td>44</td>\n",
       "      <td>86</td>\n",
       "      <td>42</td>\n",
       "      <td>2023-10-06</td>\n",
       "      <td>Friday</td>\n",
       "      <td>Weekday</td>\n",
       "      <td>East 38th St</td>\n",
       "      <td>East 38th St</td>\n",
       "      <td>East 38th St</td>\n",
       "    </tr>\n",
       "    <tr>\n",
       "      <th>4</th>\n",
       "      <td>9313</td>\n",
       "      <td>1404</td>\n",
       "      <td>1995</td>\n",
       "      <td>5066</td>\n",
       "      <td>5068</td>\n",
       "      <td>181608</td>\n",
       "      <td>1476</td>\n",
       "      <td>3256</td>\n",
       "      <td>25</td>\n",
       "      <td>0</td>\n",
       "      <td>...</td>\n",
       "      <td>353</td>\n",
       "      <td>44</td>\n",
       "      <td>33</td>\n",
       "      <td>-11</td>\n",
       "      <td>2023-10-06</td>\n",
       "      <td>Friday</td>\n",
       "      <td>Weekday</td>\n",
       "      <td>East 38th St</td>\n",
       "      <td>East 38th St</td>\n",
       "      <td>East 38th St</td>\n",
       "    </tr>\n",
       "  </tbody>\n",
       "</table>\n",
       "<p>5 rows × 33 columns</p>\n",
       "</div>"
      ],
      "text/plain": [
       "   DateKey  BlockKey  RouteKey  DepartStopKey  ArriveStopKey  TripKey  \\\n",
       "0     9313      1369      2001           1700           5559   180233   \n",
       "1     9313      1545      2007           2974          16278   180058   \n",
       "2     9313      1404      1995           5063           5064   181608   \n",
       "3     9313      1404      1995           5064           5066   181608   \n",
       "4     9313      1404      1995           5066           5068   181608   \n",
       "\n",
       "   UserKey  VehicleKey  TripSequence  ArriveBoards  ...  EndTimeVarianceSecs  \\\n",
       "0     1071        2900            70             0  ...                 -119   \n",
       "1     2537        3243            20             0  ...                   82   \n",
       "2     1476        3256            23             0  ...                  322   \n",
       "3     1476        3256            24             0  ...                  364   \n",
       "4     1476        3256            25             0  ...                  353   \n",
       "\n",
       "   TotalTimeScheduleSecs  TotalTimeActualSecs  TotalTimeVarianceSecs  \\\n",
       "0                     74                   67                     -7   \n",
       "1                     21                    9                    -12   \n",
       "2                     22                   23                      1   \n",
       "3                     44                   86                     42   \n",
       "4                     44                   33                    -11   \n",
       "\n",
       "   CalendarDate DayOfWeekName WorkdayType  RouteInternetName  \\\n",
       "0    2023-10-06        Friday     Weekday        10th Street   \n",
       "1    2023-10-06        Friday     Weekday         Washington   \n",
       "2    2023-10-06        Friday     Weekday       East 38th St   \n",
       "3    2023-10-06        Friday     Weekday       East 38th St   \n",
       "4    2023-10-06        Friday     Weekday       East 38th St   \n",
       "\n",
       "  RouteDepartInternetName RouteArrivalInternetName  \n",
       "0             10th Street              10th Street  \n",
       "1              Washington               Washington  \n",
       "2            East 38th St             East 38th St  \n",
       "3            East 38th St             East 38th St  \n",
       "4            East 38th St             East 38th St  \n",
       "\n",
       "[5 rows x 33 columns]"
      ]
     },
     "execution_count": 141,
     "metadata": {},
     "output_type": "execute_result"
    }
   ],
   "source": [
    "df_indygo.head()"
   ]
  },
  {
   "cell_type": "code",
   "execution_count": 142,
   "metadata": {},
   "outputs": [
    {
     "name": "stdout",
     "output_type": "stream",
     "text": [
      "<class 'pandas.core.frame.DataFrame'>\n",
      "RangeIndex: 19513694 entries, 0 to 19513693\n",
      "Data columns (total 33 columns):\n",
      " #   Column                    Dtype         \n",
      "---  ------                    -----         \n",
      " 0   DateKey                   int64         \n",
      " 1   BlockKey                  int64         \n",
      " 2   RouteKey                  int64         \n",
      " 3   DepartStopKey             int64         \n",
      " 4   ArriveStopKey             int64         \n",
      " 5   TripKey                   int64         \n",
      " 6   UserKey                   int64         \n",
      " 7   VehicleKey                int64         \n",
      " 8   TripSequence              int64         \n",
      " 9   ArriveBoards              int64         \n",
      " 10  ArriveAlights             int64         \n",
      " 11  ArriveOnboard             int64         \n",
      " 12  DepartBoards              int64         \n",
      " 13  DepartAlights             int64         \n",
      " 14  DepartOnboard             int64         \n",
      " 15  DepartTimeSchedule        datetime64[ns]\n",
      " 16  DepartTimeActual          datetime64[ns]\n",
      " 17  DepartTimeVarianceSecs    int64         \n",
      " 18  ArriveTimeSchedule        datetime64[ns]\n",
      " 19  ArriveTimeActual          datetime64[ns]\n",
      " 20  ArriveTimeVarianceSecs    int64         \n",
      " 21  EndTimeSchedule           datetime64[ns]\n",
      " 22  EndTimeActual             datetime64[ns]\n",
      " 23  EndTimeVarianceSecs       int64         \n",
      " 24  TotalTimeScheduleSecs     int64         \n",
      " 25  TotalTimeActualSecs       int64         \n",
      " 26  TotalTimeVarianceSecs     int64         \n",
      " 27  CalendarDate              datetime64[ns]\n",
      " 28  DayOfWeekName             object        \n",
      " 29  WorkdayType               object        \n",
      " 30  RouteInternetName         object        \n",
      " 31  RouteDepartInternetName   object        \n",
      " 32  RouteArrivalInternetName  object        \n",
      "dtypes: datetime64[ns](7), int64(21), object(5)\n",
      "memory usage: 4.8+ GB\n"
     ]
    }
   ],
   "source": [
    "df_indygo.info()"
   ]
  },
  {
   "cell_type": "code",
   "execution_count": 143,
   "metadata": {},
   "outputs": [],
   "source": [
    "df_indygo['CalendarDate'] = pd.to_datetime(df_indygo['CalendarDate'], format='%Y-%m-%d')\n",
    "\n",
    "\n",
    "start_date = '2024-03-01'\n",
    "end_date = '2024-06-30'\n",
    "\n",
    "\n",
    "df_indygo_filtered = df_indygo[(df_indygo['CalendarDate'] >= start_date) & (df_indygo['CalendarDate'] <= end_date)]"
   ]
  },
  {
   "cell_type": "markdown",
   "metadata": {},
   "source": [
    "## Questions\n"
   ]
  },
  {
   "cell_type": "markdown",
   "metadata": {},
   "source": [
    "What is the overall monthly on-time performance by day of service (Weekday, Saturday, Sunday )?"
   ]
  },
  {
   "attachments": {
    "image.png": {
     "image/png": "[encoded data removed]"
    }
   },
   "cell_type": "markdown",
   "metadata": {},
   "source": [
    "![image.png](attachment:image.png)"
   ]
  },
  {
   "cell_type": "markdown",
   "metadata": {},
   "source": [
    "DayOfWeekName\n",
    "\n",
    "TotalTimeVarianceSec\n",
    "\n",
    "TotalTimeActualSecs"
   ]
  },
  {
   "cell_type": "code",
   "execution_count": 144,
   "metadata": {},
   "outputs": [],
   "source": [
    "df_indygo_q1 = df_indygo_filtered[['DepartTimeSchedule', \n",
    "    'DepartTimeActual', \n",
    "    'ArriveTimeSchedule', \n",
    "    'ArriveTimeActual', \n",
    "    'EndTimeSchedule', \n",
    "    'EndTimeActual',\n",
    "    'TotalTimeVarianceSecs',\n",
    "    'TotalTimeActualSecs',\n",
    "    'CalendarDate',\n",
    "    'DayOfWeekName',\n",
    "    'WorkdayType']]"
   ]
  },
  {
   "cell_type": "code",
   "execution_count": 145,
   "metadata": {},
   "outputs": [
    {
     "name": "stdout",
     "output_type": "stream",
     "text": [
      "<class 'pandas.core.frame.DataFrame'>\n",
      "Index: 7982117 entries, 11531577 to 19513693\n",
      "Data columns (total 11 columns):\n",
      " #   Column                 Dtype         \n",
      "---  ------                 -----         \n",
      " 0   DepartTimeSchedule     datetime64[ns]\n",
      " 1   DepartTimeActual       datetime64[ns]\n",
      " 2   ArriveTimeSchedule     datetime64[ns]\n",
      " 3   ArriveTimeActual       datetime64[ns]\n",
      " 4   EndTimeSchedule        datetime64[ns]\n",
      " 5   EndTimeActual          datetime64[ns]\n",
      " 6   TotalTimeVarianceSecs  int64         \n",
      " 7   TotalTimeActualSecs    int64         \n",
      " 8   CalendarDate           datetime64[ns]\n",
      " 9   DayOfWeekName          object        \n",
      " 10  WorkdayType            object        \n",
      "dtypes: datetime64[ns](7), int64(2), object(2)\n",
      "memory usage: 730.8+ MB\n"
     ]
    }
   ],
   "source": [
    "df_indygo_q1.info()"
   ]
  },
  {
   "cell_type": "code",
   "execution_count": 146,
   "metadata": {},
   "outputs": [],
   "source": [
    "df_depart_time_otp = df_indygo_filtered[['DepartTimeSchedule', \n",
    "    'DepartTimeActual', \n",
    "    'CalendarDate',\n",
    "    'DayOfWeekName',\n",
    "    'WorkdayType']]"
   ]
  },
  {
   "cell_type": "code",
   "execution_count": 147,
   "metadata": {},
   "outputs": [
    {
     "data": {
      "text/plain": [
       "1150965845"
      ]
     },
     "execution_count": 147,
     "metadata": {},
     "output_type": "execute_result"
    }
   ],
   "source": [
    "df_depart_time_otp.memory_usage(deep=True).sum().item()"
   ]
  },
  {
   "cell_type": "code",
   "execution_count": 148,
   "metadata": {},
   "outputs": [],
   "source": [
    "df_arrive_time_otp =df_indygo_filtered[[\n",
    "    'ArriveTimeSchedule', \n",
    "    'ArriveTimeActual', \n",
    "    'CalendarDate',\n",
    "    'DayOfWeekName',\n",
    "    'WorkdayType']]"
   ]
  },
  {
   "cell_type": "code",
   "execution_count": 149,
   "metadata": {},
   "outputs": [
    {
     "data": {
      "text/plain": [
       "1150965845"
      ]
     },
     "execution_count": 149,
     "metadata": {},
     "output_type": "execute_result"
    }
   ],
   "source": [
    "df_arrive_time_otp.memory_usage(deep=True).sum().item()"
   ]
  },
  {
   "cell_type": "code",
   "execution_count": 150,
   "metadata": {},
   "outputs": [],
   "source": [
    "df_end_time_otp = df_indygo_filtered[[ \n",
    "    'EndTimeSchedule', \n",
    "    'EndTimeActual',\n",
    "    'CalendarDate',\n",
    "    'DayOfWeekName',\n",
    "    'WorkdayType']]"
   ]
  },
  {
   "cell_type": "code",
   "execution_count": 151,
   "metadata": {},
   "outputs": [
    {
     "data": {
      "text/plain": [
       "1150965845"
      ]
     },
     "execution_count": 151,
     "metadata": {},
     "output_type": "execute_result"
    }
   ],
   "source": [
    "df_end_time_otp.memory_usage(deep=True).sum().item()"
   ]
  },
  {
   "cell_type": "code",
   "execution_count": 152,
   "metadata": {},
   "outputs": [],
   "source": [
    "df_total_time_otp = df_indygo_filtered[[\n",
    "    'TotalTimeVarianceSecs',\n",
    "    'TotalTimeActualSecs',\n",
    "    'CalendarDate',\n",
    "    'DayOfWeekName',\n",
    "    'WorkdayType']]"
   ]
  },
  {
   "cell_type": "code",
   "execution_count": 153,
   "metadata": {},
   "outputs": [
    {
     "data": {
      "text/plain": [
       "1150965845"
      ]
     },
     "execution_count": 153,
     "metadata": {},
     "output_type": "execute_result"
    }
   ],
   "source": [
    "df_total_time_otp.memory_usage(deep=True).sum().item()"
   ]
  },
  {
   "cell_type": "markdown",
   "metadata": {},
   "source": [
    "How does OTP vary across different route categories - service frequency, rapid transit)?"
   ]
  },
  {
   "cell_type": "markdown",
   "metadata": {},
   "source": [
    "RouteKey\n",
    "\n",
    "RouteInternetName\n",
    "\n",
    "TotalTimeScheduleSecs\n",
    "\n",
    "TotalTimeActualSecs\n",
    "\n",
    "TotalTimeVarianceSecs\n",
    "\n",
    "DepartTimeSchedule / DepartTimeActual / DepartTimeVarianceSecs\n",
    "\n",
    "ArriveTimeSchedule / ArriveTimeActual / ArriveTimeVarianceSecs\n",
    "\n",
    "DayOfWeekName\n",
    "\n",
    "WorkdayType\n",
    "\n",
    "TripKey"
   ]
  },
  {
   "cell_type": "code",
   "execution_count": 154,
   "metadata": {},
   "outputs": [],
   "source": [
    "df_indygo_q23456 = df_indygo_filtered[[\n",
    "    'RouteKey',\n",
    "    'RouteInternetName',\n",
    "    'TotalTimeScheduleSecs',\n",
    "    'TotalTimeActualSecs',\n",
    "    'TotalTimeVarianceSecs',\n",
    "    'DepartTimeSchedule',\n",
    "    'DepartTimeActual',\n",
    "    'DepartTimeVarianceSecs',\n",
    "    'ArriveTimeSchedule',\n",
    "    'ArriveTimeActual',\n",
    "    'ArriveTimeVarianceSecs',\n",
    "    'DayOfWeekName',\n",
    "    'WorkdayType',\n",
    "    'TripKey'\n",
    "]]\n"
   ]
  },
  {
   "cell_type": "code",
   "execution_count": 155,
   "metadata": {},
   "outputs": [
    {
     "name": "stdout",
     "output_type": "stream",
     "text": [
      "<class 'pandas.core.frame.DataFrame'>\n",
      "Index: 7982117 entries, 11531577 to 19513693\n",
      "Data columns (total 14 columns):\n",
      " #   Column                  Dtype         \n",
      "---  ------                  -----         \n",
      " 0   RouteKey                int64         \n",
      " 1   RouteInternetName       object        \n",
      " 2   TotalTimeScheduleSecs   int64         \n",
      " 3   TotalTimeActualSecs     int64         \n",
      " 4   TotalTimeVarianceSecs   int64         \n",
      " 5   DepartTimeSchedule      datetime64[ns]\n",
      " 6   DepartTimeActual        datetime64[ns]\n",
      " 7   DepartTimeVarianceSecs  int64         \n",
      " 8   ArriveTimeSchedule      datetime64[ns]\n",
      " 9   ArriveTimeActual        datetime64[ns]\n",
      " 10  ArriveTimeVarianceSecs  int64         \n",
      " 11  DayOfWeekName           object        \n",
      " 12  WorkdayType             object        \n",
      " 13  TripKey                 int64         \n",
      "dtypes: datetime64[ns](4), int64(7), object(3)\n",
      "memory usage: 913.5+ MB\n"
     ]
    }
   ],
   "source": [
    "df_indygo_q23456.info()"
   ]
  },
  {
   "cell_type": "code",
   "execution_count": 156,
   "metadata": {},
   "outputs": [],
   "source": [
    "df_depart_route_otp = df_indygo_filtered[[\n",
    "    'RouteKey',\n",
    "    'RouteInternetName',\n",
    "    'TripKey',\n",
    "    'DepartTimeSchedule', \n",
    "    'DepartTimeActual',\n",
    "    'DepartTimeVarianceSecs',\n",
    "    'CalendarDate',\n",
    "    'DayOfWeekName',\n",
    "    'WorkdayType']]"
   ]
  },
  {
   "cell_type": "code",
   "execution_count": 157,
   "metadata": {},
   "outputs": [
    {
     "data": {
      "text/plain": [
       "1827280919"
      ]
     },
     "execution_count": 157,
     "metadata": {},
     "output_type": "execute_result"
    }
   ],
   "source": [
    "df_depart_route_otp.memory_usage(deep=True).sum().item()"
   ]
  },
  {
   "cell_type": "code",
   "execution_count": 158,
   "metadata": {},
   "outputs": [
    {
     "name": "stdout",
     "output_type": "stream",
     "text": [
      "<class 'pandas.core.frame.DataFrame'>\n",
      "Index: 7982117 entries, 11531577 to 19513693\n",
      "Data columns (total 9 columns):\n",
      " #   Column                  Dtype         \n",
      "---  ------                  -----         \n",
      " 0   RouteKey                int64         \n",
      " 1   RouteInternetName       object        \n",
      " 2   TripKey                 int64         \n",
      " 3   DepartTimeSchedule      datetime64[ns]\n",
      " 4   DepartTimeActual        datetime64[ns]\n",
      " 5   DepartTimeVarianceSecs  int64         \n",
      " 6   CalendarDate            datetime64[ns]\n",
      " 7   DayOfWeekName           object        \n",
      " 8   WorkdayType             object        \n",
      "dtypes: datetime64[ns](3), int64(3), object(3)\n",
      "memory usage: 609.0+ MB\n"
     ]
    }
   ],
   "source": [
    "df_depart_route_otp.info()"
   ]
  },
  {
   "cell_type": "code",
   "execution_count": 159,
   "metadata": {},
   "outputs": [],
   "source": [
    "df_arrive_route_otp = df_indygo_filtered[[\n",
    "    'RouteKey',\n",
    "    'RouteInternetName',\n",
    "    'TripKey',\n",
    "    'ArriveTimeSchedule', \n",
    "    'ArriveTimeActual',\n",
    "    'ArriveTimeVarianceSecs', \n",
    "    'CalendarDate',\n",
    "    'DayOfWeekName',\n",
    "    'WorkdayType']]"
   ]
  },
  {
   "cell_type": "code",
   "execution_count": 160,
   "metadata": {},
   "outputs": [
    {
     "data": {
      "text/plain": [
       "1827280919"
      ]
     },
     "execution_count": 160,
     "metadata": {},
     "output_type": "execute_result"
    }
   ],
   "source": [
    "df_arrive_route_otp.memory_usage(deep=True).sum().item()\n"
   ]
  },
  {
   "cell_type": "code",
   "execution_count": 161,
   "metadata": {},
   "outputs": [
    {
     "name": "stdout",
     "output_type": "stream",
     "text": [
      "<class 'pandas.core.frame.DataFrame'>\n",
      "Index: 7982117 entries, 11531577 to 19513693\n",
      "Data columns (total 9 columns):\n",
      " #   Column                  Dtype         \n",
      "---  ------                  -----         \n",
      " 0   RouteKey                int64         \n",
      " 1   RouteInternetName       object        \n",
      " 2   TripKey                 int64         \n",
      " 3   ArriveTimeSchedule      datetime64[ns]\n",
      " 4   ArriveTimeActual        datetime64[ns]\n",
      " 5   ArriveTimeVarianceSecs  int64         \n",
      " 6   CalendarDate            datetime64[ns]\n",
      " 7   DayOfWeekName           object        \n",
      " 8   WorkdayType             object        \n",
      "dtypes: datetime64[ns](3), int64(3), object(3)\n",
      "memory usage: 609.0+ MB\n"
     ]
    }
   ],
   "source": [
    "df_arrive_route_otp.info()"
   ]
  },
  {
   "cell_type": "code",
   "execution_count": 162,
   "metadata": {},
   "outputs": [],
   "source": [
    "df_end_route_otp = df_indygo_filtered[[ \n",
    "    'RouteKey',\n",
    "    'RouteInternetName',\n",
    "    'TripKey',\n",
    "    'EndTimeSchedule', \n",
    "    'EndTimeActual',\n",
    "    'EndTimeVarianceSecs',\n",
    "    'CalendarDate',\n",
    "    'DayOfWeekName',\n",
    "    'WorkdayType']]"
   ]
  },
  {
   "cell_type": "code",
   "execution_count": 163,
   "metadata": {},
   "outputs": [
    {
     "name": "stdout",
     "output_type": "stream",
     "text": [
      "<class 'pandas.core.frame.DataFrame'>\n",
      "Index: 7982117 entries, 11531577 to 19513693\n",
      "Data columns (total 9 columns):\n",
      " #   Column               Dtype         \n",
      "---  ------               -----         \n",
      " 0   RouteKey             int64         \n",
      " 1   RouteInternetName    object        \n",
      " 2   TripKey              int64         \n",
      " 3   EndTimeSchedule      datetime64[ns]\n",
      " 4   EndTimeActual        datetime64[ns]\n",
      " 5   EndTimeVarianceSecs  int64         \n",
      " 6   CalendarDate         datetime64[ns]\n",
      " 7   DayOfWeekName        object        \n",
      " 8   WorkdayType          object        \n",
      "dtypes: datetime64[ns](3), int64(3), object(3)\n",
      "memory usage: 609.0+ MB\n"
     ]
    }
   ],
   "source": [
    "df_end_route_otp.info()"
   ]
  },
  {
   "cell_type": "code",
   "execution_count": 164,
   "metadata": {},
   "outputs": [
    {
     "data": {
      "text/plain": [
       "1827280919"
      ]
     },
     "execution_count": 164,
     "metadata": {},
     "output_type": "execute_result"
    }
   ],
   "source": [
    "df_end_route_otp.memory_usage(deep=True).sum().item()"
   ]
  },
  {
   "cell_type": "code",
   "execution_count": 165,
   "metadata": {},
   "outputs": [],
   "source": [
    "df_total_route_otp = df_indygo_filtered[[ \n",
    "    'RouteKey',\n",
    "    'RouteInternetName',\n",
    "    'TripKey',\n",
    "    'TotalTimeScheduleSecs',\n",
    "    'TotalTimeActualSecs',\n",
    "    'TotalTimeVarianceSecs',\n",
    "    'CalendarDate',\n",
    "    'DayOfWeekName',\n",
    "    'WorkdayType']]"
   ]
  },
  {
   "cell_type": "code",
   "execution_count": 166,
   "metadata": {},
   "outputs": [
    {
     "data": {
      "text/plain": [
       "1827280919"
      ]
     },
     "execution_count": 166,
     "metadata": {},
     "output_type": "execute_result"
    }
   ],
   "source": [
    "df_total_route_otp.memory_usage(deep=True).sum().item()"
   ]
  },
  {
   "cell_type": "code",
   "execution_count": 167,
   "metadata": {},
   "outputs": [
    {
     "name": "stdout",
     "output_type": "stream",
     "text": [
      "<class 'pandas.core.frame.DataFrame'>\n",
      "Index: 7982117 entries, 11531577 to 19513693\n",
      "Data columns (total 9 columns):\n",
      " #   Column                 Dtype         \n",
      "---  ------                 -----         \n",
      " 0   RouteKey               int64         \n",
      " 1   RouteInternetName      object        \n",
      " 2   TripKey                int64         \n",
      " 3   TotalTimeScheduleSecs  int64         \n",
      " 4   TotalTimeActualSecs    int64         \n",
      " 5   TotalTimeVarianceSecs  int64         \n",
      " 6   CalendarDate           datetime64[ns]\n",
      " 7   DayOfWeekName          object        \n",
      " 8   WorkdayType            object        \n",
      "dtypes: datetime64[ns](1), int64(5), object(3)\n",
      "memory usage: 609.0+ MB\n"
     ]
    }
   ],
   "source": [
    "df_total_route_otp.info()"
   ]
  },
  {
   "cell_type": "code",
   "execution_count": null,
   "metadata": {},
   "outputs": [],
   "source": [
    "df_arrive_route_otp.to_csv('arrive_route_otp.csv',index=False)\n",
    "df_arrive_time_otp.to_csv('arrive_time_otp.csv',index=False)\n",
    "df_depart_route_otp.to_csv('depart_route_otp.csv',index=False)\n",
    "df_depart_time_otp.to_csv('depart_time_otp.csv',index=False)\n",
    "df_end_route_otp.to_csv('end_route_otp.csv',index=False)\n",
    "df_end_time_otp.to_csv('end_time_otp..csv',index=False)\n",
    "df_total_route_otp.to_csv('total_route_otp.csv',index=False)\n",
    "df_total_time_otp.to_csv('total_time_otp.csv',index=False)"
   ]
  },
  {
   "cell_type": "markdown",
   "metadata": {},
   "source": [
    "What is the OTP trend for specific routes over the past 12 months?"
   ]
  },
  {
   "cell_type": "markdown",
   "metadata": {},
   "source": [
    "RouteKey\n",
    "\n",
    "CalendarDate\n",
    "\n",
    "TotalTimeScheduleSecs\n",
    "\n",
    "TotalTimeActualSecs\n",
    "\n",
    "TotalTimeVarianceSecs\n",
    "\n",
    "DepartTimeSchedule\n",
    "\n",
    "DepartTimeActual\n",
    "\n",
    "DepartTimeVarianceSecs\n",
    "\n",
    "ArriveTimeSchedule\n",
    "\n",
    "ArriveTimeActual\n",
    "\n",
    "ArriveTimeVarianceSecs"
   ]
  },
  {
   "cell_type": "markdown",
   "metadata": {},
   "source": [
    "How does OTP change across different time frames (e.g., monthly, by bid period, or over the last five weeks)?"
   ]
  },
  {
   "cell_type": "markdown",
   "metadata": {},
   "source": [
    "CalendarDate\n",
    "\n",
    "TotalTimeScheduleSecs\n",
    "\n",
    "TotalTimeActualSecs\n",
    "\n",
    "TotalTimeVarianceSecs\n",
    "\n",
    "DepartTimeSchedule\n",
    "\n",
    "DepartTimeActual\n",
    "\n",
    "DepartTimeVarianceSecs\n",
    "\n",
    "ArriveTimeSchedule\n",
    "\n",
    "ArriveTimeActual\n",
    "\n",
    "ArriveTimeVarianceSecs"
   ]
  },
  {
   "cell_type": "markdown",
   "metadata": {},
   "source": [
    "What is the change in OTP by month, year, or week?"
   ]
  },
  {
   "cell_type": "markdown",
   "metadata": {},
   "source": [
    "CalendarDate\n",
    "\n",
    "TotalTimeScheduleSecs\n",
    "\n",
    "TotalTimeActualSecs\n",
    "\n",
    "TotalTimeVarianceSecs\n",
    "\n",
    "DepartTimeSchedule\n",
    "\n",
    "DepartTimeActual\n",
    "\n",
    "DepartTimeVarianceSecs\n",
    "\n",
    "ArriveTimeSchedule\n",
    "\n",
    "ArriveTimeActual\n",
    "\n",
    "ArriveTimeVarianceSecs"
   ]
  },
  {
   "cell_type": "markdown",
   "metadata": {},
   "source": [
    "How does OTP differ during peak vs. non-peak hours?"
   ]
  },
  {
   "cell_type": "markdown",
   "metadata": {},
   "source": [
    "CalendarDate\n",
    "\n",
    "DepartTimeSchedule\n",
    "\n",
    "DepartTimeActual\n",
    "\n",
    "DepartTimeVarianceSecs\n",
    "\n",
    "ArriveTimeSchedule\n",
    "\n",
    "ArriveTimeActual\n",
    "\n",
    "ArriveTimeVarianceSecs\n",
    "\n",
    "TotalTimeScheduleSecs\n",
    "\n",
    "TotalTimeActualSecs\n",
    "\n",
    "TotalTimeVarianceSecs"
   ]
  }
 ],
 "metadata": {
  "kernelspec": {
   "display_name": "base",
   "language": "python",
   "name": "python3"
  },
  "language_info": {
   "codemirror_mode": {
    "name": "ipython",
    "version": 3
   },
   "file_extension": ".py",
   "mimetype": "text/x-python",
   "name": "python",
   "nbconvert_exporter": "python",
   "pygments_lexer": "ipython3",
   "version": "3.12.9"
  }
 },
 "nbformat": 4,
 "nbformat_minor": 2
}
